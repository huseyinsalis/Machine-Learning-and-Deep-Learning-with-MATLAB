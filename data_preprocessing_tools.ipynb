{
  "nbformat": 4,
  "nbformat_minor": 0,
  "metadata": {
    "colab": {
      "name": "Copy of data_preprocessing_tools.ipynb",
      "provenance": [],
      "collapsed_sections": [],
      "include_colab_link": true
    },
    "kernelspec": {
      "name": "python3",
      "display_name": "Python 3"
    }
  },
  "cells": [
    {
      "cell_type": "markdown",
      "metadata": {
        "id": "view-in-github",
        "colab_type": "text"
      },
      "source": [
        "<a href=\"https://colab.research.google.com/github/huseyinsalis/Machine-Learning-and-Deep-Learning-with-MATLAB/blob/master/data_preprocessing_tools.ipynb\" target=\"_parent\"><img src=\"https://colab.research.google.com/assets/colab-badge.svg\" alt=\"Open In Colab\"/></a>"
      ]
    },
    {
      "cell_type": "markdown",
      "metadata": {
        "id": "37puETfgRzzg",
        "colab_type": "text"
      },
      "source": [
        "# Data Preprocessing Tools"
      ]
    },
    {
      "cell_type": "markdown",
      "metadata": {
        "id": "EoRP98MpR-qj",
        "colab_type": "text"
      },
      "source": [
        "## Importing the libraries"
      ]
    },
    {
      "cell_type": "code",
      "metadata": {
        "id": "DA5nwPogdgpd",
        "colab_type": "code",
        "colab": {}
      },
      "source": [
        "import numpy as np\n",
        "import matplotlib.pyplot as plt\n",
        "import pandas as pd"
      ],
      "execution_count": 0,
      "outputs": []
    },
    {
      "cell_type": "markdown",
      "metadata": {
        "id": "RopL7tUZSQkT",
        "colab_type": "text"
      },
      "source": [
        "## Importing the dataset"
      ]
    },
    {
      "cell_type": "code",
      "metadata": {
        "id": "sE4iR2nKeE1X",
        "colab_type": "code",
        "colab": {}
      },
      "source": [
        "dataset=pd.read_csv('Data.csv')\n",
        "X=dataset.iloc[:,:-1]\n",
        "Y=dataset.iloc[:,-1]"
      ],
      "execution_count": 0,
      "outputs": []
    },
    {
      "cell_type": "code",
      "metadata": {
        "id": "amdN7_qDgfbb",
        "colab_type": "code",
        "colab": {
          "base_uri": "https://localhost:8080/",
          "height": 202
        },
        "outputId": "9a2aed6b-5371-43a0-b1ed-fbbeca37f342"
      },
      "source": [
        "print(X)"
      ],
      "execution_count": 11,
      "outputs": [
        {
          "output_type": "stream",
          "text": [
            "   Country   Age   Salary\n",
            "0   France  44.0  72000.0\n",
            "1    Spain  27.0  48000.0\n",
            "2  Germany  30.0  54000.0\n",
            "3    Spain  38.0  61000.0\n",
            "4  Germany  40.0      NaN\n",
            "5   France  35.0  58000.0\n",
            "6    Spain   NaN  52000.0\n",
            "7   France  48.0  79000.0\n",
            "8  Germany  50.0  83000.0\n",
            "9   France  37.0  67000.0\n"
          ],
          "name": "stdout"
        }
      ]
    },
    {
      "cell_type": "code",
      "metadata": {
        "id": "yssXNiC9giHc",
        "colab_type": "code",
        "colab": {
          "base_uri": "https://localhost:8080/",
          "height": 202
        },
        "outputId": "730fc67c-0be6-4c84-8b9b-25a96f6c92fe"
      },
      "source": [
        "print(Y)"
      ],
      "execution_count": 12,
      "outputs": [
        {
          "output_type": "stream",
          "text": [
            "0     No\n",
            "1    Yes\n",
            "2     No\n",
            "3     No\n",
            "4    Yes\n",
            "5    Yes\n",
            "6     No\n",
            "7    Yes\n",
            "8     No\n",
            "9    Yes\n",
            "Name: Purchased, dtype: object\n"
          ],
          "name": "stdout"
        }
      ]
    },
    {
      "cell_type": "markdown",
      "metadata": {
        "id": "nhfKXNxlSabC",
        "colab_type": "text"
      },
      "source": [
        "## Taking care of missing data"
      ]
    },
    {
      "cell_type": "code",
      "metadata": {
        "id": "13N4GkBLnciN",
        "colab_type": "code",
        "colab": {}
      },
      "source": [
        "from sklearn.impute import SimpleImputer\n",
        "imputer = SimpleImputer(missing_values=np.nan, strategy='mean')\n",
        "imputer.fit(X.iloc[:, 1:3])\n",
        "X.iloc[:,1:3]=imputer.transform(X.iloc[:,1:3])"
      ],
      "execution_count": 0,
      "outputs": []
    },
    {
      "cell_type": "code",
      "metadata": {
        "id": "_kQr-tp0mA1A",
        "colab_type": "code",
        "colab": {
          "base_uri": "https://localhost:8080/",
          "height": 202
        },
        "outputId": "7d0d4f53-1d18-4891-e842-68349cdffce9"
      },
      "source": [
        "print(X)"
      ],
      "execution_count": 16,
      "outputs": [
        {
          "output_type": "stream",
          "text": [
            "   Country        Age        Salary\n",
            "0   France  44.000000  72000.000000\n",
            "1    Spain  27.000000  48000.000000\n",
            "2  Germany  30.000000  54000.000000\n",
            "3    Spain  38.000000  61000.000000\n",
            "4  Germany  40.000000  63777.777778\n",
            "5   France  35.000000  58000.000000\n",
            "6    Spain  38.777778  52000.000000\n",
            "7   France  48.000000  79000.000000\n",
            "8  Germany  50.000000  83000.000000\n",
            "9   France  37.000000  67000.000000\n"
          ],
          "name": "stdout"
        }
      ]
    },
    {
      "cell_type": "markdown",
      "metadata": {
        "id": "CriG6VzVSjcK",
        "colab_type": "text"
      },
      "source": [
        "## Encoding categorical data"
      ]
    },
    {
      "cell_type": "markdown",
      "metadata": {
        "id": "AhSpdQWeSsFh",
        "colab_type": "text"
      },
      "source": [
        "### Encoding the Independent Variable"
      ]
    },
    {
      "cell_type": "code",
      "metadata": {
        "id": "Pn_XLH4JqJQi",
        "colab_type": "code",
        "colab": {}
      },
      "source": [
        "from sklearn.compose import ColumnTransformer\n",
        "from sklearn.preprocessing import OneHotEncoder\n",
        "ct=ColumnTransformer(transformers=[('encoder', OneHotEncoder(), [0])],remainder='passthrough') \n",
        "X=np.array(ct.fit_transform(X))"
      ],
      "execution_count": 0,
      "outputs": []
    },
    {
      "cell_type": "code",
      "metadata": {
        "id": "X9Px9fGWsEdU",
        "colab_type": "code",
        "colab": {
          "base_uri": "https://localhost:8080/",
          "height": 353
        },
        "outputId": "e48e28f4-eb13-4f3a-f2ff-feeec0355cfe"
      },
      "source": [
        "print(X)"
      ],
      "execution_count": 19,
      "outputs": [
        {
          "output_type": "stream",
          "text": [
            "[[1.00000000e+00 0.00000000e+00 0.00000000e+00 4.40000000e+01\n",
            "  7.20000000e+04]\n",
            " [0.00000000e+00 0.00000000e+00 1.00000000e+00 2.70000000e+01\n",
            "  4.80000000e+04]\n",
            " [0.00000000e+00 1.00000000e+00 0.00000000e+00 3.00000000e+01\n",
            "  5.40000000e+04]\n",
            " [0.00000000e+00 0.00000000e+00 1.00000000e+00 3.80000000e+01\n",
            "  6.10000000e+04]\n",
            " [0.00000000e+00 1.00000000e+00 0.00000000e+00 4.00000000e+01\n",
            "  6.37777778e+04]\n",
            " [1.00000000e+00 0.00000000e+00 0.00000000e+00 3.50000000e+01\n",
            "  5.80000000e+04]\n",
            " [0.00000000e+00 0.00000000e+00 1.00000000e+00 3.87777778e+01\n",
            "  5.20000000e+04]\n",
            " [1.00000000e+00 0.00000000e+00 0.00000000e+00 4.80000000e+01\n",
            "  7.90000000e+04]\n",
            " [0.00000000e+00 1.00000000e+00 0.00000000e+00 5.00000000e+01\n",
            "  8.30000000e+04]\n",
            " [1.00000000e+00 0.00000000e+00 0.00000000e+00 3.70000000e+01\n",
            "  6.70000000e+04]]\n"
          ],
          "name": "stdout"
        }
      ]
    },
    {
      "cell_type": "markdown",
      "metadata": {
        "id": "DXh8oVSITIc6",
        "colab_type": "text"
      },
      "source": [
        "### Encoding the Dependent Variable"
      ]
    },
    {
      "cell_type": "code",
      "metadata": {
        "id": "BabyIE47t2hk",
        "colab_type": "code",
        "colab": {}
      },
      "source": [
        "from sklearn.preprocessing import LabelEncoder\n",
        "le=LabelEncoder()\n",
        "Y=le.fit_transform(Y)"
      ],
      "execution_count": 0,
      "outputs": []
    },
    {
      "cell_type": "code",
      "metadata": {
        "id": "QDlWOoIOuLv8",
        "colab_type": "code",
        "colab": {
          "base_uri": "https://localhost:8080/",
          "height": 34
        },
        "outputId": "bd21866e-94fd-4933-d4f8-b2cc6f634d18"
      },
      "source": [
        "print(Y)"
      ],
      "execution_count": 21,
      "outputs": [
        {
          "output_type": "stream",
          "text": [
            "[0 1 0 0 1 1 0 1 0 1]\n"
          ],
          "name": "stdout"
        }
      ]
    },
    {
      "cell_type": "markdown",
      "metadata": {
        "id": "TpGqbS4TqkIR",
        "colab_type": "text"
      },
      "source": [
        "## Feature Scaling"
      ]
    },
    {
      "cell_type": "code",
      "metadata": {
        "id": "NBzoqnz-vArZ",
        "colab_type": "code",
        "colab": {}
      },
      "source": [
        "from sklearn.preprocessing import StandardScaler\n",
        "sc=StandardScaler()\n",
        "X=sc.fit_transform(X)"
      ],
      "execution_count": 0,
      "outputs": []
    },
    {
      "cell_type": "code",
      "metadata": {
        "id": "yqRUagXHwlsy",
        "colab_type": "code",
        "colab": {
          "base_uri": "https://localhost:8080/",
          "height": 353
        },
        "outputId": "077eac55-b5d6-4653-d1ef-3ffd39860b88"
      },
      "source": [
        "print(X)"
      ],
      "execution_count": 24,
      "outputs": [
        {
          "output_type": "stream",
          "text": [
            "[[ 1.22474487e+00 -6.54653671e-01 -6.54653671e-01  7.58874362e-01\n",
            "   7.49473254e-01]\n",
            " [-8.16496581e-01 -6.54653671e-01  1.52752523e+00 -1.71150388e+00\n",
            "  -1.43817841e+00]\n",
            " [-8.16496581e-01  1.52752523e+00 -6.54653671e-01 -1.27555478e+00\n",
            "  -8.91265492e-01]\n",
            " [-8.16496581e-01 -6.54653671e-01  1.52752523e+00 -1.13023841e-01\n",
            "  -2.53200424e-01]\n",
            " [-8.16496581e-01  1.52752523e+00 -6.54653671e-01  1.77608893e-01\n",
            "   6.63219199e-16]\n",
            " [ 1.22474487e+00 -6.54653671e-01 -6.54653671e-01 -5.48972942e-01\n",
            "  -5.26656882e-01]\n",
            " [-8.16496581e-01 -6.54653671e-01  1.52752523e+00  0.00000000e+00\n",
            "  -1.07356980e+00]\n",
            " [ 1.22474487e+00 -6.54653671e-01 -6.54653671e-01  1.34013983e+00\n",
            "   1.38753832e+00]\n",
            " [-8.16496581e-01  1.52752523e+00 -6.54653671e-01  1.63077256e+00\n",
            "   1.75214693e+00]\n",
            " [ 1.22474487e+00 -6.54653671e-01 -6.54653671e-01 -2.58340208e-01\n",
            "   2.93712492e-01]]\n"
          ],
          "name": "stdout"
        }
      ]
    },
    {
      "cell_type": "markdown",
      "metadata": {
        "id": "qb_vcgm3qZKW",
        "colab_type": "text"
      },
      "source": [
        "## Splitting the dataset into the Training set and Test set"
      ]
    },
    {
      "cell_type": "code",
      "metadata": {
        "id": "K_CNeWjqx191",
        "colab_type": "code",
        "colab": {}
      },
      "source": [
        "from sklearn.model_selection import train_test_split\n",
        "XTrain, XTest, YTrain, YTest =train_test_split(X, Y, test_size=0.2, random_state=0)"
      ],
      "execution_count": 0,
      "outputs": []
    },
    {
      "cell_type": "code",
      "metadata": {
        "id": "0BWG2FgeyzT2",
        "colab_type": "code",
        "colab": {
          "base_uri": "https://localhost:8080/",
          "height": 286
        },
        "outputId": "9e31efdd-92ea-4d51-edd3-6e1566f64cbf"
      },
      "source": [
        "print(XTrain)"
      ],
      "execution_count": 26,
      "outputs": [
        {
          "output_type": "stream",
          "text": [
            "[[-8.16496581e-01  1.52752523e+00 -6.54653671e-01  1.77608893e-01\n",
            "   6.63219199e-16]\n",
            " [ 1.22474487e+00 -6.54653671e-01 -6.54653671e-01 -2.58340208e-01\n",
            "   2.93712492e-01]\n",
            " [-8.16496581e-01 -6.54653671e-01  1.52752523e+00 -1.71150388e+00\n",
            "  -1.43817841e+00]\n",
            " [-8.16496581e-01 -6.54653671e-01  1.52752523e+00  0.00000000e+00\n",
            "  -1.07356980e+00]\n",
            " [ 1.22474487e+00 -6.54653671e-01 -6.54653671e-01  1.34013983e+00\n",
            "   1.38753832e+00]\n",
            " [-8.16496581e-01 -6.54653671e-01  1.52752523e+00 -1.13023841e-01\n",
            "  -2.53200424e-01]\n",
            " [ 1.22474487e+00 -6.54653671e-01 -6.54653671e-01  7.58874362e-01\n",
            "   7.49473254e-01]\n",
            " [ 1.22474487e+00 -6.54653671e-01 -6.54653671e-01 -5.48972942e-01\n",
            "  -5.26656882e-01]]\n"
          ],
          "name": "stdout"
        }
      ]
    },
    {
      "cell_type": "code",
      "metadata": {
        "id": "GZZFDBrUy4-f",
        "colab_type": "code",
        "colab": {
          "base_uri": "https://localhost:8080/",
          "height": 50
        },
        "outputId": "518e3da3-5d6e-478a-c773-fb67d475adff"
      },
      "source": [
        "print(XTest)"
      ],
      "execution_count": 27,
      "outputs": [
        {
          "output_type": "stream",
          "text": [
            "[[-0.81649658  1.52752523 -0.65465367 -1.27555478 -0.89126549]\n",
            " [-0.81649658  1.52752523 -0.65465367  1.63077256  1.75214693]]\n"
          ],
          "name": "stdout"
        }
      ]
    },
    {
      "cell_type": "code",
      "metadata": {
        "id": "ZrsptPY-y5TQ",
        "colab_type": "code",
        "colab": {
          "base_uri": "https://localhost:8080/",
          "height": 34
        },
        "outputId": "3abf871f-7fcc-4c9c-a65a-45c3acb8f8d0"
      },
      "source": [
        "print(YTrain)"
      ],
      "execution_count": 28,
      "outputs": [
        {
          "output_type": "stream",
          "text": [
            "[1 1 1 0 1 0 0 1]\n"
          ],
          "name": "stdout"
        }
      ]
    },
    {
      "cell_type": "code",
      "metadata": {
        "id": "fXmuLHwgy5ex",
        "colab_type": "code",
        "colab": {
          "base_uri": "https://localhost:8080/",
          "height": 34
        },
        "outputId": "d2277aa7-c3ca-4300-e7ca-e301120c4ed4"
      },
      "source": [
        "print(YTest)"
      ],
      "execution_count": 29,
      "outputs": [
        {
          "output_type": "stream",
          "text": [
            "[0 0]\n"
          ],
          "name": "stdout"
        }
      ]
    }
  ]
}